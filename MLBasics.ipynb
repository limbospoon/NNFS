{
  "nbformat": 4,
  "nbformat_minor": 0,
  "metadata": {
    "colab": {
      "provenance": [],
      "authorship_tag": "ABX9TyN6qRVPZYS3G7O2KZKHqVi4",
      "include_colab_link": true
    },
    "kernelspec": {
      "name": "python3",
      "display_name": "Python 3"
    },
    "language_info": {
      "name": "python"
    }
  },
  "cells": [
    {
      "cell_type": "markdown",
      "metadata": {
        "id": "view-in-github",
        "colab_type": "text"
      },
      "source": [
        "<a href=\"https://colab.research.google.com/github/limbospoon/NNFS/blob/dev/MLBasics.ipynb\" target=\"_parent\"><img src=\"https://colab.research.google.com/assets/colab-badge.svg\" alt=\"Open In Colab\"/></a>"
      ]
    },
    {
      "cell_type": "code",
      "execution_count": 1,
      "metadata": {
        "colab": {
          "base_uri": "https://localhost:8080/"
        },
        "id": "qDCcruJ2GyE9",
        "outputId": "92481755-2c15-4e3a-e07b-70ed4da72906"
      },
      "outputs": [
        {
          "output_type": "stream",
          "name": "stdout",
          "text": [
            "2.3\n"
          ]
        }
      ],
      "source": [
        "inputs = [1,2,3]\n",
        "weights = [0.2, 0.8, -0.5]\n",
        "bias = 2\n",
        "\n",
        "output = (inputs[0] * weights[0] +\n",
        "          inputs[1] * weights[1] +\n",
        "          inputs[2] * weights[2]) + bias\n",
        "\n",
        "print(output)"
      ]
    },
    {
      "cell_type": "code",
      "source": [
        "#A single nueron with 4 inputs\n",
        "inputs = [1,2,3,4]\n",
        "weights = [0.2, 0.8, -0.5, 0.6]\n",
        "bias = 2\n",
        "\n",
        "output = (inputs[0] * weights[0] +\n",
        "          inputs[1] * weights[1] +\n",
        "          inputs[2] * weights[2] +\n",
        "          inputs[3] * weights[3]) + bias\n",
        "\n",
        "print(output)"
      ],
      "metadata": {
        "colab": {
          "base_uri": "https://localhost:8080/"
        },
        "id": "bx0T1YGhbG2t",
        "outputId": "0ce783fe-f380-4f31-db8f-0f4a9293b644"
      },
      "execution_count": 2,
      "outputs": [
        {
          "output_type": "stream",
          "name": "stdout",
          "text": [
            "4.7\n"
          ]
        }
      ]
    },
    {
      "cell_type": "code",
      "source": [
        "#A layer with 3 nuerons\n",
        "inputs = [1,2,3,4]\n",
        "weights = [0.2, 0.8, -0.5, 0.6]\n",
        "weights2 = [0.1, 0.75, 0.5, -0.6]\n",
        "weights3 = [0.3, 0.89, -0.34, 0.68]\n",
        "\n",
        "bias = 2\n",
        "bias2 = 3\n",
        "bias3 = 1.5\n",
        "\n",
        "output = [inputs[0] * weights[0] +\n",
        "          inputs[1] * weights[1] +\n",
        "          inputs[2] * weights[2] +\n",
        "          inputs[3] * weights[3] + bias,\n",
        "          \n",
        "          inputs[0] * weights2[0] +\n",
        "          inputs[1] * weights2[1] +\n",
        "          inputs[2] * weights2[2] +\n",
        "          inputs[3] * weights2[3] + bias2,\n",
        "          \n",
        "          inputs[0] * weights3[0] +\n",
        "          inputs[1] * weights3[1] +\n",
        "          inputs[2] * weights3[2] +\n",
        "          inputs[3] * weights3[3] + bias3,\n",
        "          ]\n",
        "          \n",
        "print(output)"
      ],
      "metadata": {
        "colab": {
          "base_uri": "https://localhost:8080/"
        },
        "id": "vetOfq4cbmag",
        "outputId": "16b5ef7c-d0bb-42c0-9af4-20946e04f8cb"
      },
      "execution_count": 4,
      "outputs": [
        {
          "output_type": "stream",
          "name": "stdout",
          "text": [
            "[4.7, 3.7, 5.28]\n"
          ]
        }
      ]
    },
    {
      "cell_type": "code",
      "source": [
        "#A single layer using a for loop\n",
        "inputs = [1,2,3,4]\n",
        "weights = [[0.2, 0.8, -0.5, 0.6],\n",
        "           [0.1, 0.75, 0.5, -0.6],\n",
        "           [0.3, 0.89, -0.34, 0.68]]\n",
        "biases = [2,3,1.5]\n",
        "\n",
        "layer_output = []\n",
        "\n",
        "for n_weights, n_biases in zip(weights, biases):\n",
        "  #Zero neuron output each loop\n",
        "  neuron_output = 0\n",
        "\n",
        "  for n_input, weight in zip(inputs, n_weights):\n",
        "    neuron_output += n_input * weight\n",
        "\n",
        "  neuron_output += n_biases\n",
        "\n",
        "  layer_output.append(neuron_output)\n",
        "\n",
        "print(layer_output)"
      ],
      "metadata": {
        "colab": {
          "base_uri": "https://localhost:8080/"
        },
        "id": "CZAAc_QAdYqd",
        "outputId": "c24e62f6-1a37-42e1-d0bb-9677a22aa3fd"
      },
      "execution_count": 5,
      "outputs": [
        {
          "output_type": "stream",
          "name": "stdout",
          "text": [
            "[4.7, 3.7, 5.28]\n"
          ]
        }
      ]
    },
    {
      "cell_type": "code",
      "source": [
        "#Dot product example\n",
        "a = [1,2,3]\n",
        "b = [4,5,6]\n",
        "dot_product = a[0]*b[0] + a[1]*b[1] + a[2]*b[2]\n",
        "\n",
        "print(dot_product)"
      ],
      "metadata": {
        "colab": {
          "base_uri": "https://localhost:8080/"
        },
        "id": "qwwuvWbchnHK",
        "outputId": "215ea760-ea83-4251-a343-4d72b8e8b13f"
      },
      "execution_count": 6,
      "outputs": [
        {
          "output_type": "stream",
          "name": "stdout",
          "text": [
            "32\n"
          ]
        }
      ]
    },
    {
      "cell_type": "code",
      "source": [
        "#Dot product numpy example\n",
        "import numpy as np\n",
        "\n",
        "inputs = [1,2,3]\n",
        "weights = [0.2, 0.8, -0.5]\n",
        "bias = 2\n",
        "\n",
        "output = np.dot(weights, inputs) + bias\n",
        "print(output)"
      ],
      "metadata": {
        "colab": {
          "base_uri": "https://localhost:8080/"
        },
        "id": "RezmlW-1irdr",
        "outputId": "506e80ee-5951-4bf6-d554-62e3a5bbe4e8"
      },
      "execution_count": 7,
      "outputs": [
        {
          "output_type": "stream",
          "name": "stdout",
          "text": [
            "2.3\n"
          ]
        }
      ]
    },
    {
      "cell_type": "code",
      "source": [
        "#A layer with 3 nuerons example np\n",
        "import numpy as np\n",
        "\n",
        "inputs = [1,2,3]\n",
        "weights = [[0.2, 0.8, -0.5],\n",
        "           [0.45, 0.87, -0.58],\n",
        "           [0.67, -0.8, 0.34]]\n",
        "biases = [2,3,4]\n",
        "\n",
        "layer_output = np.dot(weights, inputs)\n",
        "print(layer_output)"
      ],
      "metadata": {
        "colab": {
          "base_uri": "https://localhost:8080/"
        },
        "id": "yvQJxQrJkJ_G",
        "outputId": "537ea569-4387-45cf-e5e2-0773543f5cb5"
      },
      "execution_count": 8,
      "outputs": [
        {
          "output_type": "stream",
          "name": "stdout",
          "text": [
            "[0.3  0.45 0.09]\n"
          ]
        }
      ]
    },
    {
      "cell_type": "code",
      "source": [
        "#Matrix maths example\n",
        "import numpy as np\n",
        "a = [1,2,3]\n",
        "b = [3,4,5]\n",
        "\n",
        "a = np.array([a])\n",
        "b = np.array([b]).T\n",
        "\n",
        "print(np.dot(a,b))"
      ],
      "metadata": {
        "colab": {
          "base_uri": "https://localhost:8080/"
        },
        "id": "8N5S5MSxnJWv",
        "outputId": "3ba9c8a8-6990-4d55-a88f-64af562c5552"
      },
      "execution_count": 9,
      "outputs": [
        {
          "output_type": "stream",
          "name": "stdout",
          "text": [
            "[[26]]\n"
          ]
        }
      ]
    },
    {
      "cell_type": "code",
      "source": [
        "#Matrix maths example 3 nuerons\n",
        "import numpy as np\n",
        "\n",
        "inputs = [[1,2,3],\n",
        "          [4,5,6],\n",
        "          [2.3, -5.6,4]]\n",
        "weights = [[0.68, 0.24, -0.4],\n",
        "          [0.33,0.58,-0.12],\n",
        "           [-0.78,-0.65,0.89]]\n",
        "biases = [2.0,3.0,0.5]\n",
        "\n",
        "layer_output = np.dot(inputs, np.array(weights).T) + biases\n",
        "\n",
        "print(layer_output)"
      ],
      "metadata": {
        "colab": {
          "base_uri": "https://localhost:8080/"
        },
        "id": "qlbIUUp_pmnE",
        "outputId": "541e6840-ffa3-4aaa-8e56-71741ace8ad4"
      },
      "execution_count": 10,
      "outputs": [
        {
          "output_type": "stream",
          "name": "stdout",
          "text": [
            "[[ 1.96   4.13   1.09 ]\n",
            " [ 3.52   6.5   -0.53 ]\n",
            " [ 0.62   0.031  5.906]]\n"
          ]
        }
      ]
    },
    {
      "cell_type": "code",
      "source": [],
      "metadata": {
        "id": "NqM17SQQtGR9"
      },
      "execution_count": null,
      "outputs": []
    },
    {
      "cell_type": "code",
      "source": [
        "#A 2 layer NN example\n",
        "import numpy as np\n",
        "\n",
        "inputs = [[1,2,3],\n",
        "          [4,5,6],\n",
        "          [2.3, -5.6,4]]\n",
        "weights = [[0.68, 0.24, -0.4],\n",
        "          [0.33,0.58,-0.12],\n",
        "           [-0.78,-0.65,0.89]]\n",
        "weights2 = [[0.8, 0.4, -0.45],\n",
        "          [0.3,0.5,-0.1],\n",
        "           [-0.7,-0.6,0.8]]\n",
        "biases = [2.0,3.0,0.5]\n",
        "biases2 = [5.0,6.0,7.0]\n",
        "\n",
        "layer_output = np.dot(inputs, np.array(weights).T) + biases\n",
        "layer2_output = np.dot(layer_output, np.array(weights2).T) + biases2\n",
        "print(layer2_output)"
      ],
      "metadata": {
        "colab": {
          "base_uri": "https://localhost:8080/"
        },
        "outputId": "82236ce0-c63a-422d-90a8-f13688c0de45",
        "id": "8r9xr4tutILs"
      },
      "execution_count": 12,
      "outputs": [
        {
          "output_type": "stream",
          "name": "stdout",
          "text": [
            "[[ 7.7295  8.544   4.022 ]\n",
            " [10.6545 10.359   0.212 ]\n",
            " [ 2.8507  5.6109 11.2722]]\n"
          ]
        }
      ]
    }
  ]
}